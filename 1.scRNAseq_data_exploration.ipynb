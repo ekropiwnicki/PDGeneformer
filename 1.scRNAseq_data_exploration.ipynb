{
 "cells": [
  {
   "cell_type": "markdown",
   "metadata": {},
   "source": [
    "## Exploring the scRNA-seq data from Parkinson's dataset\n",
    "Want to get a sense of the cell types available and how I can\n",
    "go about converting the format given by the dataset into\n",
    "a format that is compatible with Geneformer\n",
    "\n",
    "[Link to dataset](https://singlecell.broadinstitute.org/single_cell/study/SCP1402/a-molecular-census-of-midbrain-dopaminergic-neurons-in-parkinsons-disease-preprint-data#study-download)\n",
    "\n",
    "#### Files from dataset\n",
    "\n",
    "[Link to barcodes table](https://singlecell.broadinstitute.org/single_cell/data/public/SCP1402/a-molecular-census-of-midbrain-dopaminergic-neurons-in-parkinsons-disease-preprint-data?filename=Homo_bcd.tsv.gz) (2.61 MB) - Homo_bcd.tsv.gz\n",
    "\n",
    "[Link to genes table](https://singlecell.broadinstitute.org/single_cell/data/public/SCP1402/a-molecular-census-of-midbrain-dopaminergic-neurons-in-parkinsons-disease-preprint-data?filename=Homo_features.tsv.gz) (288 KB) - Homo_features.tsv.gz\n",
    "\n",
    "[Link to cell metadata](https://singlecell.broadinstitute.org/single_cell/data/public/SCP1402/a-molecular-census-of-midbrain-dopaminergic-neurons-in-parkinsons-disease-preprint-data?filename=METADATA_PD.tsv.gz) (3.8 MB) - METADATA_PD.tsv.gz\n",
    "\n",
    "[Link to barcodes annotated as oligodendrocytes](https://singlecell.broadinstitute.org/single_cell/data/public/SCP1402/a-molecular-census-of-midbrain-dopaminergic-neurons-in-parkinsons-disease-preprint-data?filename=olig_UMAP.tsv) (17 MB) - olig_UMAP.tsv\n",
    "\n",
    "[Link to count matrix](https://singlecell.broadinstitute.org/single_cell/data/public/SCP1402/a-molecular-census-of-midbrain-dopaminergic-neurons-in-parkinsons-disease-preprint-data?filename=Homo_matrix.mtx.gz) (4.74GB) - Homo_matrix.mtx.gz\n",
    "\n",
    "** For some reason, the above files are downloaded with the \".tsv\" extension but are actually gzipped files\n",
    "\n",
    "#### Ensembl ID mappings\n",
    "\n",
    "[Link to Ensembl ID mappings](http://useast.ensembl.org/biomart/martview/26693be23a3ce39a57e123396eda8f7a?VIRTUALSCHEMANAME=default&ATTRIBUTES=hsapiens_gene_ensembl.default.feature_page.ensembl_gene_id|hsapiens_gene_ensembl.default.feature_page.ensembl_transcript_id|hsapiens_gene_ensembl.default.feature_page.external_gene_name&FILTERS=&VISIBLEPANEL=attributepanel) (10.8 MB) - mart_export.txt"
   ]
  },
  {
   "cell_type": "code",
   "execution_count": 21,
   "metadata": {},
   "outputs": [],
   "source": [
    "import scipy.io\n",
    "import pandas as pd\n",
    "import numpy as np\n",
    "import anndata as ad\n",
    "import gzip"
   ]
  },
  {
   "cell_type": "markdown",
   "metadata": {},
   "source": [
    "### Import all of the column and row attributes of the count matrix"
   ]
  },
  {
   "cell_type": "code",
   "execution_count": 22,
   "metadata": {},
   "outputs": [],
   "source": [
    "# Gene features\n",
    "with gzip.open('Homo_features.tsv', 'rt') as f:\n",
    "    genes = pd.read_csv(f, delimiter='\\t', header = None)\n",
    "\n",
    "ensembl_mapping = pd.read_table(\"mart_export.txt\").\\\n",
    "                  set_index(\"Gene name\").to_dict()['Gene stable ID']\n",
    "\n",
    "# Barcodes\n",
    "with gzip.open('Homo_bcd.tsv', 'rt') as f:\n",
    "    barcodes = pd.read_csv(f, delimiter='\\t', header = None)"
   ]
  },
  {
   "cell_type": "markdown",
   "metadata": {},
   "source": [
    "### Import metadata for filtering to barcodes of interest"
   ]
  },
  {
   "cell_type": "code",
   "execution_count": 23,
   "metadata": {},
   "outputs": [
    {
     "name": "stderr",
     "output_type": "stream",
     "text": [
      "/var/folders/mz/2gg71my1441_g_c9np4_j2kh0000gn/T/ipykernel_79509/1294798127.py:3: DtypeWarning: Columns (3,13,14,15) have mixed types. Specify dtype option on import or set low_memory=False.\n",
      "  metadata_df = pd.read_csv(f, delimiter='\\t')\n"
     ]
    },
    {
     "data": {
      "text/html": [
       "<div>\n",
       "<style scoped>\n",
       "    .dataframe tbody tr th:only-of-type {\n",
       "        vertical-align: middle;\n",
       "    }\n",
       "\n",
       "    .dataframe tbody tr th {\n",
       "        vertical-align: top;\n",
       "    }\n",
       "\n",
       "    .dataframe thead th {\n",
       "        text-align: right;\n",
       "    }\n",
       "</style>\n",
       "<table border=\"1\" class=\"dataframe\">\n",
       "  <thead>\n",
       "    <tr style=\"text-align: right;\">\n",
       "      <th></th>\n",
       "      <th>NAME</th>\n",
       "      <th>libname</th>\n",
       "      <th>biosample_id</th>\n",
       "      <th>donor_id</th>\n",
       "      <th>species</th>\n",
       "      <th>species__ontology_label</th>\n",
       "      <th>disease</th>\n",
       "      <th>disease__ontology_label</th>\n",
       "      <th>organ</th>\n",
       "      <th>organ__ontology_label</th>\n",
       "      <th>library_preparation_protocol</th>\n",
       "      <th>library_preparation_protocol__ontology_label</th>\n",
       "      <th>sex</th>\n",
       "      <th>date</th>\n",
       "      <th>Donor_Age</th>\n",
       "      <th>Donor_PMI</th>\n",
       "      <th>Status</th>\n",
       "      <th>Cause_of_Death</th>\n",
       "      <th>FACS_Classification</th>\n",
       "    </tr>\n",
       "  </thead>\n",
       "  <tbody>\n",
       "    <tr>\n",
       "      <th>0</th>\n",
       "      <td>TYPE</td>\n",
       "      <td>group</td>\n",
       "      <td>group</td>\n",
       "      <td>group</td>\n",
       "      <td>group</td>\n",
       "      <td>group</td>\n",
       "      <td>group</td>\n",
       "      <td>group</td>\n",
       "      <td>group</td>\n",
       "      <td>group</td>\n",
       "      <td>group</td>\n",
       "      <td>group</td>\n",
       "      <td>group</td>\n",
       "      <td>group</td>\n",
       "      <td>numeric</td>\n",
       "      <td>numeric</td>\n",
       "      <td>group</td>\n",
       "      <td>group</td>\n",
       "      <td>group</td>\n",
       "    </tr>\n",
       "    <tr>\n",
       "      <th>1</th>\n",
       "      <td>pPDCN4340DAPIA030419_AATGCCACACAAGCAG-1</td>\n",
       "      <td>pPDCN4340DAPIA030419</td>\n",
       "      <td>pPDCN4340DAPIA030419</td>\n",
       "      <td>4340</td>\n",
       "      <td>NCBITaxon_9606</td>\n",
       "      <td>Homo sapiens</td>\n",
       "      <td>PATO_0000461</td>\n",
       "      <td>normal</td>\n",
       "      <td>UBERON_0001873</td>\n",
       "      <td>caudate nucleus</td>\n",
       "      <td>EFO_0009901</td>\n",
       "      <td>10x 3' v1</td>\n",
       "      <td>male</td>\n",
       "      <td>190304</td>\n",
       "      <td>47</td>\n",
       "      <td>12.5</td>\n",
       "      <td>Ctrl</td>\n",
       "      <td>Esophageal cancer with liver mets</td>\n",
       "      <td>Negative</td>\n",
       "    </tr>\n",
       "    <tr>\n",
       "      <th>2</th>\n",
       "      <td>pPDCN4340DAPIA030419_AGACTCAGTCACAATC-1</td>\n",
       "      <td>pPDCN4340DAPIA030419</td>\n",
       "      <td>pPDCN4340DAPIA030419</td>\n",
       "      <td>4340</td>\n",
       "      <td>NCBITaxon_9606</td>\n",
       "      <td>Homo sapiens</td>\n",
       "      <td>PATO_0000461</td>\n",
       "      <td>normal</td>\n",
       "      <td>UBERON_0001873</td>\n",
       "      <td>caudate nucleus</td>\n",
       "      <td>EFO_0009901</td>\n",
       "      <td>10x 3' v1</td>\n",
       "      <td>male</td>\n",
       "      <td>190304</td>\n",
       "      <td>47</td>\n",
       "      <td>12.5</td>\n",
       "      <td>Ctrl</td>\n",
       "      <td>Esophageal cancer with liver mets</td>\n",
       "      <td>Negative</td>\n",
       "    </tr>\n",
       "    <tr>\n",
       "      <th>3</th>\n",
       "      <td>pPDCN4340DAPIA030419_ATACTTCCAGCGTTGC-1</td>\n",
       "      <td>pPDCN4340DAPIA030419</td>\n",
       "      <td>pPDCN4340DAPIA030419</td>\n",
       "      <td>4340</td>\n",
       "      <td>NCBITaxon_9606</td>\n",
       "      <td>Homo sapiens</td>\n",
       "      <td>PATO_0000461</td>\n",
       "      <td>normal</td>\n",
       "      <td>UBERON_0001873</td>\n",
       "      <td>caudate nucleus</td>\n",
       "      <td>EFO_0009901</td>\n",
       "      <td>10x 3' v1</td>\n",
       "      <td>male</td>\n",
       "      <td>190304</td>\n",
       "      <td>47</td>\n",
       "      <td>12.5</td>\n",
       "      <td>Ctrl</td>\n",
       "      <td>Esophageal cancer with liver mets</td>\n",
       "      <td>Negative</td>\n",
       "    </tr>\n",
       "    <tr>\n",
       "      <th>4</th>\n",
       "      <td>pPDCN4340DAPIA030419_ATATCCTGTGTGTTTG-1</td>\n",
       "      <td>pPDCN4340DAPIA030419</td>\n",
       "      <td>pPDCN4340DAPIA030419</td>\n",
       "      <td>4340</td>\n",
       "      <td>NCBITaxon_9606</td>\n",
       "      <td>Homo sapiens</td>\n",
       "      <td>PATO_0000461</td>\n",
       "      <td>normal</td>\n",
       "      <td>UBERON_0001873</td>\n",
       "      <td>caudate nucleus</td>\n",
       "      <td>EFO_0009901</td>\n",
       "      <td>10x 3' v1</td>\n",
       "      <td>male</td>\n",
       "      <td>190304</td>\n",
       "      <td>47</td>\n",
       "      <td>12.5</td>\n",
       "      <td>Ctrl</td>\n",
       "      <td>Esophageal cancer with liver mets</td>\n",
       "      <td>Negative</td>\n",
       "    </tr>\n",
       "  </tbody>\n",
       "</table>\n",
       "</div>"
      ],
      "text/plain": [
       "                                      NAME               libname  \\\n",
       "0                                     TYPE                 group   \n",
       "1  pPDCN4340DAPIA030419_AATGCCACACAAGCAG-1  pPDCN4340DAPIA030419   \n",
       "2  pPDCN4340DAPIA030419_AGACTCAGTCACAATC-1  pPDCN4340DAPIA030419   \n",
       "3  pPDCN4340DAPIA030419_ATACTTCCAGCGTTGC-1  pPDCN4340DAPIA030419   \n",
       "4  pPDCN4340DAPIA030419_ATATCCTGTGTGTTTG-1  pPDCN4340DAPIA030419   \n",
       "\n",
       "           biosample_id donor_id         species species__ontology_label  \\\n",
       "0                 group    group           group                   group   \n",
       "1  pPDCN4340DAPIA030419     4340  NCBITaxon_9606            Homo sapiens   \n",
       "2  pPDCN4340DAPIA030419     4340  NCBITaxon_9606            Homo sapiens   \n",
       "3  pPDCN4340DAPIA030419     4340  NCBITaxon_9606            Homo sapiens   \n",
       "4  pPDCN4340DAPIA030419     4340  NCBITaxon_9606            Homo sapiens   \n",
       "\n",
       "        disease disease__ontology_label           organ organ__ontology_label  \\\n",
       "0         group                   group           group                 group   \n",
       "1  PATO_0000461                  normal  UBERON_0001873       caudate nucleus   \n",
       "2  PATO_0000461                  normal  UBERON_0001873       caudate nucleus   \n",
       "3  PATO_0000461                  normal  UBERON_0001873       caudate nucleus   \n",
       "4  PATO_0000461                  normal  UBERON_0001873       caudate nucleus   \n",
       "\n",
       "  library_preparation_protocol library_preparation_protocol__ontology_label  \\\n",
       "0                        group                                        group   \n",
       "1                  EFO_0009901                                    10x 3' v1   \n",
       "2                  EFO_0009901                                    10x 3' v1   \n",
       "3                  EFO_0009901                                    10x 3' v1   \n",
       "4                  EFO_0009901                                    10x 3' v1   \n",
       "\n",
       "     sex    date Donor_Age Donor_PMI Status  \\\n",
       "0  group   group   numeric   numeric  group   \n",
       "1   male  190304        47      12.5   Ctrl   \n",
       "2   male  190304        47      12.5   Ctrl   \n",
       "3   male  190304        47      12.5   Ctrl   \n",
       "4   male  190304        47      12.5   Ctrl   \n",
       "\n",
       "                      Cause_of_Death FACS_Classification  \n",
       "0                              group               group  \n",
       "1  Esophageal cancer with liver mets            Negative  \n",
       "2  Esophageal cancer with liver mets            Negative  \n",
       "3  Esophageal cancer with liver mets            Negative  \n",
       "4  Esophageal cancer with liver mets            Negative  "
      ]
     },
     "execution_count": 23,
     "metadata": {},
     "output_type": "execute_result"
    }
   ],
   "source": [
    "# Metadata for each cell\n",
    "with gzip.open('METADATA_PD.tsv.gz', 'rt') as f:\n",
    "    metadata_df = pd.read_csv(f, delimiter='\\t')\n",
    "metadata_df.head()"
   ]
  },
  {
   "cell_type": "markdown",
   "metadata": {},
   "source": [
    "### Oligodendrocytes are the most abundant cell type\n",
    "For the purpose of training an MVP model we may want to focus on cell type with most training examples"
   ]
  },
  {
   "cell_type": "code",
   "execution_count": 24,
   "metadata": {},
   "outputs": [
    {
     "name": "stderr",
     "output_type": "stream",
     "text": [
      "/var/folders/mz/2gg71my1441_g_c9np4_j2kh0000gn/T/ipykernel_79509/856640324.py:2: DtypeWarning: Columns (1,2) have mixed types. Specify dtype option on import or set low_memory=False.\n",
      "  oligos = pd.read_csv(\"olig_UMAP.tsv\", sep = \"\\t\")\n"
     ]
    }
   ],
   "source": [
    "# Barcodes annotated as oligodendrocytes\n",
    "oligos = pd.read_csv(\"olig_UMAP.tsv\", sep = \"\\t\")\n",
    "oligo_barcodes = oligos.iloc[1:]['NAME'].tolist()"
   ]
  },
  {
   "cell_type": "code",
   "execution_count": 25,
   "metadata": {},
   "outputs": [],
   "source": [
    "# Filter metadata_df to metadata of interest\n",
    "metadata_df_filtered = metadata_df.query(\"species__ontology_label == 'Homo sapiens'\\\n",
    "         & disease__ontology_label.isin(['normal','Parkinson disease'])\\\n",
    "         & organ__ontology_label == 'substantia nigra pars compacta'\\\n",
    "         & NAME.isin(@oligo_barcodes)\")"
   ]
  },
  {
   "cell_type": "code",
   "execution_count": 26,
   "metadata": {},
   "outputs": [
    {
     "data": {
      "text/html": [
       "<div>\n",
       "<style scoped>\n",
       "    .dataframe tbody tr th:only-of-type {\n",
       "        vertical-align: middle;\n",
       "    }\n",
       "\n",
       "    .dataframe tbody tr th {\n",
       "        vertical-align: top;\n",
       "    }\n",
       "\n",
       "    .dataframe thead th {\n",
       "        text-align: right;\n",
       "    }\n",
       "</style>\n",
       "<table border=\"1\" class=\"dataframe\">\n",
       "  <thead>\n",
       "    <tr style=\"text-align: right;\">\n",
       "      <th></th>\n",
       "      <th>donor_id</th>\n",
       "      <th>disease__ontology_label</th>\n",
       "    </tr>\n",
       "  </thead>\n",
       "  <tbody>\n",
       "    <tr>\n",
       "      <th>22497</th>\n",
       "      <td>3482</td>\n",
       "      <td>normal</td>\n",
       "    </tr>\n",
       "    <tr>\n",
       "      <th>27620</th>\n",
       "      <td>3346</td>\n",
       "      <td>normal</td>\n",
       "    </tr>\n",
       "    <tr>\n",
       "      <th>33309</th>\n",
       "      <td>3482</td>\n",
       "      <td>normal</td>\n",
       "    </tr>\n",
       "    <tr>\n",
       "      <th>37739</th>\n",
       "      <td>3346</td>\n",
       "      <td>normal</td>\n",
       "    </tr>\n",
       "    <tr>\n",
       "      <th>42681</th>\n",
       "      <td>3873</td>\n",
       "      <td>Parkinson disease</td>\n",
       "    </tr>\n",
       "    <tr>\n",
       "      <th>44675</th>\n",
       "      <td>5610</td>\n",
       "      <td>normal</td>\n",
       "    </tr>\n",
       "    <tr>\n",
       "      <th>49799</th>\n",
       "      <td>3322</td>\n",
       "      <td>normal</td>\n",
       "    </tr>\n",
       "    <tr>\n",
       "      <th>78539</th>\n",
       "      <td>3345</td>\n",
       "      <td>normal</td>\n",
       "    </tr>\n",
       "    <tr>\n",
       "      <th>93844</th>\n",
       "      <td>4956</td>\n",
       "      <td>normal</td>\n",
       "    </tr>\n",
       "    <tr>\n",
       "      <th>117212</th>\n",
       "      <td>6173</td>\n",
       "      <td>normal</td>\n",
       "    </tr>\n",
       "    <tr>\n",
       "      <th>152943</th>\n",
       "      <td>3887</td>\n",
       "      <td>Parkinson disease</td>\n",
       "    </tr>\n",
       "    <tr>\n",
       "      <th>160284</th>\n",
       "      <td>4560</td>\n",
       "      <td>Parkinson disease</td>\n",
       "    </tr>\n",
       "    <tr>\n",
       "      <th>288361</th>\n",
       "      <td>4568</td>\n",
       "      <td>Parkinson disease</td>\n",
       "    </tr>\n",
       "    <tr>\n",
       "      <th>302814</th>\n",
       "      <td>2142</td>\n",
       "      <td>Parkinson disease</td>\n",
       "    </tr>\n",
       "    <tr>\n",
       "      <th>330545</th>\n",
       "      <td>1963</td>\n",
       "      <td>Parkinson disease</td>\n",
       "    </tr>\n",
       "    <tr>\n",
       "      <th>387977</th>\n",
       "      <td>3298</td>\n",
       "      <td>normal</td>\n",
       "    </tr>\n",
       "    <tr>\n",
       "      <th>426847</th>\n",
       "      <td>1963</td>\n",
       "      <td>Parkinson disease</td>\n",
       "    </tr>\n",
       "    <tr>\n",
       "      <th>433937</th>\n",
       "      <td>3298</td>\n",
       "      <td>normal</td>\n",
       "    </tr>\n",
       "  </tbody>\n",
       "</table>\n",
       "</div>"
      ],
      "text/plain": [
       "       donor_id disease__ontology_label\n",
       "22497      3482                  normal\n",
       "27620      3346                  normal\n",
       "33309      3482                  normal\n",
       "37739      3346                  normal\n",
       "42681      3873       Parkinson disease\n",
       "44675      5610                  normal\n",
       "49799      3322                  normal\n",
       "78539      3345                  normal\n",
       "93844      4956                  normal\n",
       "117212     6173                  normal\n",
       "152943     3887       Parkinson disease\n",
       "160284     4560       Parkinson disease\n",
       "288361     4568       Parkinson disease\n",
       "302814     2142       Parkinson disease\n",
       "330545     1963       Parkinson disease\n",
       "387977     3298                  normal\n",
       "426847     1963       Parkinson disease\n",
       "433937     3298                  normal"
      ]
     },
     "execution_count": 26,
     "metadata": {},
     "output_type": "execute_result"
    }
   ],
   "source": [
    "metadata_df_filtered[['donor_id','disease__ontology_label']].drop_duplicates()"
   ]
  },
  {
   "cell_type": "code",
   "execution_count": 27,
   "metadata": {},
   "outputs": [
    {
     "data": {
      "text/plain": [
       "array(['3482', '3346', 3482, 3346, 3873, 5610, 3322, 3345, 4956, 6173,\n",
       "       3887, 4560, 4568, 2142, 1963, 3298, '1963', '3298'], dtype=object)"
      ]
     },
     "execution_count": 27,
     "metadata": {},
     "output_type": "execute_result"
    }
   ],
   "source": [
    "metadata_df_filtered['donor_id'].unique()"
   ]
  },
  {
   "cell_type": "code",
   "execution_count": 28,
   "metadata": {},
   "outputs": [
    {
     "data": {
      "text/plain": [
       "18"
      ]
     },
     "execution_count": 28,
     "metadata": {},
     "output_type": "execute_result"
    }
   ],
   "source": [
    "# How many unique donors?\n",
    "metadata_df_filtered['donor_id'].nunique()"
   ]
  },
  {
   "cell_type": "code",
   "execution_count": 30,
   "metadata": {},
   "outputs": [
    {
     "data": {
      "text/plain": [
       "143582"
      ]
     },
     "execution_count": 30,
     "metadata": {},
     "output_type": "execute_result"
    }
   ],
   "source": [
    "len(metadata_df_filtered)"
   ]
  },
  {
   "cell_type": "code",
   "execution_count": 29,
   "metadata": {},
   "outputs": [
    {
     "name": "stderr",
     "output_type": "stream",
     "text": [
      "/var/folders/mz/2gg71my1441_g_c9np4_j2kh0000gn/T/ipykernel_79509/1160797698.py:8: SettingWithCopyWarning: \n",
      "A value is trying to be set on a copy of a slice from a DataFrame.\n",
      "Try using .loc[row_indexer,col_indexer] = value instead\n",
      "\n",
      "See the caveats in the documentation: https://pandas.pydata.org/pandas-docs/stable/user_guide/indexing.html#returning-a-view-versus-a-copy\n",
      "  metadata_df_filtered['donor_id'] = metadata_df_filtered['donor_id'].astype(str)\n"
     ]
    }
   ],
   "source": [
    "# Get barcodes filtered to metadata of interest\n",
    "barcodes_of_interest = pd.Index(metadata_df_filtered['NAME'])\n",
    "\n",
    "# Create dict for matching barcodes to disease\n",
    "disease_dict = metadata_df_filtered.set_index('NAME')['disease__ontology_label']\n",
    "\n",
    "# Create dict for matching barcodes to donor_id\n",
    "metadata_df_filtered['donor_id'] = metadata_df_filtered['donor_id'].astype(str)\n",
    "donor_dict = metadata_df_filtered.set_index('NAME')['donor_id']"
   ]
  },
  {
   "cell_type": "markdown",
   "metadata": {},
   "source": [
    "### The format required by Geneformer is described [here](https://huggingface.co/ctheodoris/Geneformer/blob/main/examples/tokenizing_scRNAseq_data.ipynb)\n",
    "I will convert the count matrix into the appropriate format."
   ]
  },
  {
   "cell_type": "code",
   "execution_count": null,
   "metadata": {},
   "outputs": [],
   "source": [
    "# Load the MTX file\n",
    "with gzip.open(\"Homo_matrix.mtx.gz\", \"rt\") as f:\n",
    "    mtx = scipy.io.mmread(f).tocsc()\n",
    "\n",
    "# Create an AnnData object\n",
    "adata = ad.AnnData(X=mtx.T)\n",
    "\n",
    "# Map gene names to Ensembl IDs\n",
    "adata.var['gene_name'] = genes[0].values\n",
    "adata.var['ensembl_id'] = adata.var['gene_name'].map(ensembl_mapping)\n",
    "\n",
    "# Filter AnnData object to barcodes of interest\n",
    "adata.obs['barcode'] = barcodes[0].values\n",
    "adata = adata[adata.obs['barcode'].isin(barcodes_of_interest)]\n",
    "\n",
    "# Add columns necessary for Geneformer fine-tuning\n",
    "adata.obs['n_counts'] = np.sum(adata.X, axis=1).A1\n",
    "adata.obs['donor_id'] = adata.obs['barcode'].map(donor_dict)\n",
    "adata.obs['disease_status'] = adata.obs['barcode'].map(disease_dict)"
   ]
  },
  {
   "cell_type": "code",
   "execution_count": null,
   "metadata": {},
   "outputs": [],
   "source": [
    "!mkdir PD_data_directory/"
   ]
  },
  {
   "cell_type": "code",
   "execution_count": null,
   "metadata": {},
   "outputs": [],
   "source": [
    "# Save the AnnData object as an H5 file\n",
    "adata.write_h5ad('PD_data_directory/PD.h5ad')"
   ]
  },
  {
   "cell_type": "markdown",
   "metadata": {},
   "source": [
    "### Tokenization for Geneformer"
   ]
  },
  {
   "cell_type": "code",
   "execution_count": null,
   "metadata": {},
   "outputs": [],
   "source": [
    "from geneformer import TranscriptomeTokenizer\n",
    "tk = TranscriptomeTokenizer({\"disease_status\":\"disease_status\",\n",
    "                             \"donor_id\":\"donor_id\"}, nproc=16)\n",
    "tk.tokenize_data(data_directory=\"PD_data_directory\", \n",
    "                 output_directory=\"PD_data\", \n",
    "                 output_prefix=\"PD\", \n",
    "                 file_format=\"h5ad\")"
   ]
  },
  {
   "cell_type": "markdown",
   "metadata": {},
   "source": [
    "### Verify"
   ]
  },
  {
   "cell_type": "code",
   "execution_count": 2,
   "metadata": {},
   "outputs": [
    {
     "name": "stderr",
     "output_type": "stream",
     "text": [
      "/Users/erykkropiwnicki/.pyenv/versions/retrobio/lib/python3.12/site-packages/tqdm/auto.py:21: TqdmWarning: IProgress not found. Please update jupyter and ipywidgets. See https://ipywidgets.readthedocs.io/en/stable/user_install.html\n",
      "  from .autonotebook import tqdm as notebook_tqdm\n"
     ]
    },
    {
     "data": {
      "text/plain": [
       "ConcatenationTable\n",
       "input_ids: list<item: int16>\n",
       "  child 0, item: int16\n",
       "disease_status: string\n",
       "donor_id: string\n",
       "length: int64\n",
       "----\n",
       "input_ids: [[[4113,15947,16985,15366,4067,...,14787,18513,80,1680,14231],[4113,15947,16985,8937,15366,...,8836,6952,5575,5830,6909],...,[9371,16985,13462,15947,1932,...,11736,5613,18001,7129,3758],[9371,9291,16985,13462,11952,...,234,8439,8967,407,6272]],[[9371,9291,15947,16985,13923,...,13047,9413,318,17182,12696],[15947,16985,11656,1106,13462,...,3758,17269,4214,16923,16473],...,[15947,11656,948,16985,9855,...,739,8330,4521,9301,9539],[9371,16985,15947,9183,11952,...,7936,10352,16018,11909,2120]],...,[[16985,13462,9291,15947,1106,...,8041,171,3356,1169,2838],[15947,4067,15287,16985,14609,...,20421,10862,11556,10859,4189],...,[1106,9291,13462,16985,15947,...,17247,20499,12254,5381,12030],[1106,11656,15287,4067,9291,...,17247,17326,15458,6367,8659]],[[4067,9291,16985,9939,15947,...,10152,12820,5381,6367,14485],[15947,16985,11656,24325,14258,...,3160,16913,1720,9142,5381],...,[16985,15947,4113,1421,1324,...,11785,1319,3664,5381,2523],[9291,16985,4113,15366,4067,...,9940,19999,12254,16285,12030]]]\n",
       "disease_status: [[\"normal\",\"normal\",\"normal\",\"normal\",\"normal\",...,\"normal\",\"normal\",\"normal\",\"normal\",\"normal\"],[\"normal\",\"normal\",\"normal\",\"normal\",\"normal\",...,\"normal\",\"normal\",\"normal\",\"normal\",\"normal\"],...,[\"normal\",\"normal\",\"normal\",\"normal\",\"normal\",...,\"normal\",\"normal\",\"normal\",\"normal\",\"normal\"],[\"normal\",\"normal\",\"normal\",\"normal\",\"normal\",...,\"Parkinson disease\",\"normal\",\"normal\",\"normal\",\"normal\"]]\n",
       "donor_id: [[\"3482\",\"3482\",\"3482\",\"3482\",\"3482\",...,\"3346\",\"3346\",\"3346\",\"3346\",\"3346\"],[\"3346\",\"3346\",\"3346\",\"3346\",\"3346\",...,\"3346\",\"3346\",\"3346\",\"3346\",\"3346\"],...,[\"3298\",\"3298\",\"3298\",\"3298\",\"3298\",...,\"3298\",\"3298\",\"3298\",\"3298\",\"3298\"],[\"3298\",\"3298\",\"3298\",\"3298\",\"3298\",...,\"1963\",\"3298\",\"3298\",\"3298\",\"3298\"]]\n",
       "length: [[2048,2048,2048,2048,2048,...,2048,2048,2048,2048,2048],[2048,2048,2048,2048,2048,...,2048,2048,2048,2048,2048],...,[2048,2048,2048,2048,2048,...,846,836,899,802,852],[876,868,899,856,967,...,1624,2048,2048,1491,953]]"
      ]
     },
     "execution_count": 2,
     "metadata": {},
     "output_type": "execute_result"
    }
   ],
   "source": [
    "from datasets import load_from_disk\n",
    "data = load_from_disk(\"PD_data/PD.dataset\")\n",
    "data.data"
   ]
  }
 ],
 "metadata": {
  "kernelspec": {
   "display_name": "retrobio",
   "language": "python",
   "name": "retrobio"
  },
  "language_info": {
   "codemirror_mode": {
    "name": "ipython",
    "version": 3
   },
   "file_extension": ".py",
   "mimetype": "text/x-python",
   "name": "python",
   "nbconvert_exporter": "python",
   "pygments_lexer": "ipython3",
   "version": "3.12.0"
  }
 },
 "nbformat": 4,
 "nbformat_minor": 2
}
